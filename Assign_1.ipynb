{
 "cells": [
  {
   "cell_type": "markdown",
   "id": "6f76bb18",
   "metadata": {},
   "source": [
    "Program to combine firstname and lastname from two different lists"
   ]
  },
  {
   "cell_type": "code",
   "execution_count": 1,
   "id": "fed1d36b",
   "metadata": {},
   "outputs": [
    {
     "name": "stdout",
     "output_type": "stream",
     "text": [
      "['Samar Nath', 'Sathwik Sunny', 'Ram Reddy']\n"
     ]
    }
   ],
   "source": [
    "F_N=[\"Samar\",\"Ram\",\"Sathwik\"]\n",
    "L_N=[\"Nath\",\"Reddy\",\"Sunny\"]\n",
    "Full_Name=[]\n",
    "if len(F_N)==len(L_N):\n",
    "    for i in range(len(F_N)):\n",
    "        Full_Name.insert(1,(F_N[i]+\" \"+L_N[i]))\n",
    "    print(Full_Name)\n",
    "elif len(F_N)>len(L_N):\n",
    "    print(\"Missing Lastnames\")\n",
    "else:\n",
    "    print(\"Missing Firstnames\")"
   ]
  },
  {
   "cell_type": "code",
   "execution_count": 2,
   "id": "be51ec18",
   "metadata": {},
   "outputs": [
    {
     "name": "stdout",
     "output_type": "stream",
     "text": [
      "['sam, reddy', 'ram, rao']\n"
     ]
    }
   ],
   "source": [
    "# If the length of two lists are same\n",
    "f_n = [\"sam\", \"ram\"]\n",
    "l_n = [\"reddy\", \"rao\"]\n",
    "f_l = []\n",
    "c =[]\n",
    "for i in range(len(f_n)):\n",
    "     f_l.append((f_n[i]+', '+l_n[i]))\n",
    "    #c((f._n[i]+', '+l_n[i]))\n",
    "\n",
    "print (f_l)"
   ]
  },
  {
   "cell_type": "markdown",
   "id": "88c396d6",
   "metadata": {},
   "source": [
    "Program to print previous month, previous quarter, future month, and current quarter of the input and print the output in the form of lists"
   ]
  },
  {
   "cell_type": "code",
   "execution_count": 4,
   "id": "614024cd",
   "metadata": {},
   "outputs": [
    {
     "name": "stdout",
     "output_type": "stream",
     "text": [
      "202103\n",
      "Q1\n",
      "{'prev_month': '202102', 'future_month': '202202', 'current Quarter': 'Q1_2021', 'previous_quater': 'Q4_2020'}\n"
     ]
    }
   ],
   "source": [
    "def getfuturemonth(y,mm):\n",
    "    if mm==1:\n",
    "        Previousmonth =12\n",
    "        future_mon=str(y+1)+str(Previousmonth)\n",
    "        return future_mon\n",
    "    elif mm<=10:\n",
    "        Previousmonth=mm-1\n",
    "        future_mon=str(y+1)+'0'+str(Previousmonth)\n",
    "        return future_mon\n",
    "    else:\n",
    "        Previousmonth=mm-1\n",
    "        future_mon=str(y+1)+str(Previousmonth)\n",
    "        return future_mon\n",
    "    \n",
    "def getpreviousmonth(y,mm):\n",
    "    if mm==1:\n",
    "        Previousmonth =12\n",
    "        prev_mon=str(y-1)+str(Previousmonth)\n",
    "        return prev_mon\n",
    "    elif mm<=10:\n",
    "        Previousmonth=mm-1\n",
    "        prev_mon=str(y)+'0'+str(Previousmonth)\n",
    "        return prev_mon\n",
    "    else:\n",
    "        Previousmonth=mm-1\n",
    "        prev_mon=str(y)+str(Previousmonth)\n",
    "        return prev_mon\n",
    "\n",
    "def currentquarter(Q,y):\n",
    "    currentquarter=Q+'_'+str(y)\n",
    "    return currentquarter\n",
    "\n",
    "def getpreviousquarter(Q,y):\n",
    "    q=int(Q[1])\n",
    "    if q in range(2,5):\n",
    "        prevquanum= q-1\n",
    "        previousquarter='Q'+str(prevquanum)+'_'+str(y)\n",
    "        return previousquarter\n",
    "    else:\n",
    "        prevquanum=4\n",
    "        previousquarter='Q'+str(prevquanum)+'_'+str(y-1)\n",
    "        return previousquarter\n",
    "    \n",
    "def example(currdate,q):\n",
    "    n=len(currdate)\n",
    "    mm=int(currdate[n-2:])\n",
    "    y=int(currdate[:n-2])\n",
    "    Q=q\n",
    "    prev_month=getpreviousmonth(y,mm)\n",
    "    future_mon=getfuturemonth(y,mm)\n",
    "    curr_quarter=currentquarter(Q,y)\n",
    "    prev_quater=getpreviousquarter(Q,y)\n",
    "    \n",
    "\n",
    "    dict1=dict({'prev_month':prev_month,'future_month':future_mon,'current Quarter':curr_quarter,'previous_quater':prev_quater})\n",
    "    return dict1\n",
    "def main():\n",
    "    curr_date=input()\n",
    "    quater=input()\n",
    "    print(example(curr_date,quater))\n",
    "\n",
    "main()"
   ]
  },
  {
   "cell_type": "code",
   "execution_count": 5,
   "id": "70cdf738",
   "metadata": {},
   "outputs": [
    {
     "name": "stdout",
     "output_type": "stream",
     "text": [
      "202112\n",
      "Q4\n",
      "{'prev_month': '202111', 'future_month': '202211', 'current Quarter': 'Q4_2021', 'previous_quater': 'Q3_2021'}\n"
     ]
    }
   ],
   "source": [
    "main()"
   ]
  },
  {
   "cell_type": "code",
   "execution_count": null,
   "id": "91a662c6",
   "metadata": {},
   "outputs": [],
   "source": []
  },
  {
   "cell_type": "code",
   "execution_count": null,
   "id": "f9af6ec1",
   "metadata": {},
   "outputs": [],
   "source": []
  }
 ],
 "metadata": {
  "kernelspec": {
   "display_name": "Python 3 (ipykernel)",
   "language": "python",
   "name": "python3"
  },
  "language_info": {
   "codemirror_mode": {
    "name": "ipython",
    "version": 3
   },
   "file_extension": ".py",
   "mimetype": "text/x-python",
   "name": "python",
   "nbconvert_exporter": "python",
   "pygments_lexer": "ipython3",
   "version": "3.9.13"
  }
 },
 "nbformat": 4,
 "nbformat_minor": 5
}
